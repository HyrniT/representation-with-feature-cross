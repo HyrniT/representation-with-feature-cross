{
 "cells": [
  {
   "cell_type": "markdown",
   "id": "f8fa652d",
   "metadata": {},
   "source": [
    "# Representation with a Feature Cross"
   ]
  },
  {
   "cell_type": "markdown",
   "id": "9e14adf5",
   "metadata": {},
   "source": [
    "## 0/ Import relevant modules"
   ]
  },
  {
   "cell_type": "code",
   "execution_count": 1,
   "id": "92fcdfe3",
   "metadata": {},
   "outputs": [],
   "source": [
    "# from __future__ import absolute_import, division, print_function, unicode_literals\n",
    "\n",
    "import numpy as np\n",
    "import pandas as pd\n",
    "import tensorflow as tf\n",
    "from tensorflow import feature_column\n",
    "from tensorflow.keras import layers\n",
    "\n",
    "from matplotlib import pyplot as plt\n",
    "\n",
    "# The following lines adjust the granularity of reporting.\n",
    "pd.options.display.max_rows = 10\n",
    "pd.options.display.float_format = \"{:.1f}\".format\n",
    "\n",
    "tf.keras.backend.set_floatx('float32')\n"
   ]
  },
  {
   "cell_type": "markdown",
   "id": "c307b76e",
   "metadata": {},
   "source": [
    "## 1/ Load, scale, and shuffle the examples"
   ]
  },
  {
   "cell_type": "code",
   "execution_count": 2,
   "id": "e6b1eb60",
   "metadata": {},
   "outputs": [],
   "source": [
    "# Load the dataset\n",
    "train_df = pd.read_csv(\"https://download.mlcc.google.com/mledu-datasets/california_housing_train.csv\")\n",
    "test_df = pd.read_csv(\"https://download.mlcc.google.com/mledu-datasets/california_housing_test.csv\")\n",
    "\n",
    "# Scale the labels\n",
    "scale_factor = 1000.0\n",
    "# Scale the training set's label.\n",
    "train_df[\"median_house_value\"] /= scale_factor \n",
    "\n",
    "# Scale the test set's label\n",
    "test_df[\"median_house_value\"] /= scale_factor\n",
    "\n",
    "# Shuffle the examples\n",
    "train_df = train_df.reindex(np.random.permutation(train_df.index))"
   ]
  },
  {
   "cell_type": "markdown",
   "id": "6a6e0aa4",
   "metadata": {},
   "source": [
    "## 2/ Define functions that create and train a model, and a plotting function"
   ]
  },
  {
   "cell_type": "code",
   "execution_count": 6,
   "id": "12a8891d",
   "metadata": {},
   "outputs": [],
   "source": [
    "def create_model(my_learning_rate, feature_layer):\n",
    "    \"\"\"Create and compile a simple linear regression model.\"\"\"\n",
    "  # Most simple tf.keras models are sequential.\n",
    "    model = tf.keras.models.Sequential()\n",
    "\n",
    "  # Add the layer containing the feature columns to the model.\n",
    "    model.add(feature_layer)\n",
    "\n",
    "  # Add one linear layer to the model to yield a simple linear regressor.\n",
    "    model.add(tf.keras.layers.Dense(units=1, input_shape=(1,)))\n",
    "\n",
    "  # Construct the layers into a model that TensorFlow can execute.\n",
    "    model.compile(optimizer=tf.keras.optimizers.RMSprop(lr=my_learning_rate),\n",
    "                loss=\"mean_squared_error\",\n",
    "                metrics=[tf.keras.metrics.RootMeanSquaredError()])\n",
    "\n",
    "    return model           \n",
    "\n",
    "\n",
    "def train_model(model, dataset, epochs, batch_size, label_name):\n",
    "    \"\"\"Feed a dataset into the model in order to train it.\"\"\"\n",
    "\n",
    "    features = {name:np.array(value) for name, value in dataset.items()}\n",
    "    label = np.array(features.pop(label_name))\n",
    "    history = model.fit(x=features, y=label, batch_size=batch_size,\n",
    "                      epochs=epochs, shuffle=True)\n",
    "\n",
    "  # The list of epochs is stored separately from the rest of history.\n",
    "    epochs = history.epoch\n",
    "  \n",
    "  # Isolate the mean absolute error for each epoch.\n",
    "    hist = pd.DataFrame(history.history)\n",
    "    rmse = hist[\"root_mean_squared_error\"]\n",
    "\n",
    "    return epochs, rmse   \n",
    "\n",
    "\n",
    "def plot_the_loss_curve(epochs, rmse):\n",
    "    \"\"\"Plot a curve of loss vs. epoch.\"\"\"\n",
    "\n",
    "    plt.figure()\n",
    "    plt.xlabel(\"Epoch\")\n",
    "    plt.ylabel(\"Root Mean Squared Error\")\n",
    "\n",
    "    plt.plot(epochs, rmse, label=\"Loss\")\n",
    "    plt.legend()\n",
    "    plt.ylim([rmse.min()*0.94, rmse.max()* 1.05])\n",
    "    plt.show()  "
   ]
  },
  {
   "cell_type": "markdown",
   "id": "a509ea85",
   "metadata": {},
   "source": [
    "## 3/ Floating-point"
   ]
  },
  {
   "cell_type": "markdown",
   "id": "f21227b0",
   "metadata": {},
   "source": [
    "### 3.1/Represent latitude and longitude as floating-point values "
   ]
  },
  {
   "cell_type": "code",
   "execution_count": 3,
   "id": "82dc0b82",
   "metadata": {},
   "outputs": [],
   "source": [
    "# Create an empty list that will eventually hold all feature columns.\n",
    "feature_columns = []\n",
    "\n",
    "# Create a numerical feature column to represent latitude.\n",
    "latitude = tf.feature_column.numeric_column(\"latitude\")\n",
    "feature_columns.append(latitude)\n",
    "\n",
    "# Create a numerical feature column to represent longitude.\n",
    "longitude = tf.feature_column.numeric_column(\"longitude\")\n",
    "feature_columns.append(longitude)\n",
    "\n",
    "# Convert the list of feature columns into a layer that will ultimately become\n",
    "# part of the model. Understanding layers is not important right now.\n",
    "fp_feature_layer = layers.DenseFeatures(feature_columns)"
   ]
  },
  {
   "cell_type": "markdown",
   "id": "a28e82cf",
   "metadata": {},
   "source": [
    "### 3.2/ Train the model with floating-point representations"
   ]
  },
  {
   "cell_type": "code",
   "execution_count": 7,
   "id": "778530d2",
   "metadata": {
    "scrolled": false
   },
   "outputs": [
    {
     "name": "stderr",
     "output_type": "stream",
     "text": [
      "2022-08-06 01:04:07.664639: I tensorflow/core/platform/cpu_feature_guard.cc:193] This TensorFlow binary is optimized with oneAPI Deep Neural Network Library (oneDNN) to use the following CPU instructions in performance-critical operations:  AVX2 FMA\n",
      "To enable them in other operations, rebuild TensorFlow with the appropriate compiler flags.\n",
      "/Users/nguyenhien/opt/anaconda3/lib/python3.9/site-packages/keras/optimizers/optimizer_v2/rmsprop.py:135: UserWarning: The `lr` argument is deprecated, use `learning_rate` instead.\n",
      "  super(RMSprop, self).__init__(name, **kwargs)\n"
     ]
    },
    {
     "name": "stdout",
     "output_type": "stream",
     "text": [
      "Epoch 1/30\n",
      "WARNING:tensorflow:Layers in a Sequential model should only have a single input tensor. Received: inputs={'longitude': <tf.Tensor 'IteratorGetNext:3' shape=(100,) dtype=float32>, 'latitude': <tf.Tensor 'IteratorGetNext:2' shape=(100,) dtype=float32>, 'housing_median_age': <tf.Tensor 'IteratorGetNext:1' shape=(100,) dtype=float32>, 'total_rooms': <tf.Tensor 'IteratorGetNext:7' shape=(100,) dtype=float32>, 'total_bedrooms': <tf.Tensor 'IteratorGetNext:6' shape=(100,) dtype=float32>, 'population': <tf.Tensor 'IteratorGetNext:5' shape=(100,) dtype=float32>, 'households': <tf.Tensor 'IteratorGetNext:0' shape=(100,) dtype=float32>, 'median_income': <tf.Tensor 'IteratorGetNext:4' shape=(100,) dtype=float32>}. Consider rewriting this model with the Functional API.\n",
      "WARNING:tensorflow:Layers in a Sequential model should only have a single input tensor. Received: inputs={'longitude': <tf.Tensor 'IteratorGetNext:3' shape=(100,) dtype=float32>, 'latitude': <tf.Tensor 'IteratorGetNext:2' shape=(100,) dtype=float32>, 'housing_median_age': <tf.Tensor 'IteratorGetNext:1' shape=(100,) dtype=float32>, 'total_rooms': <tf.Tensor 'IteratorGetNext:7' shape=(100,) dtype=float32>, 'total_bedrooms': <tf.Tensor 'IteratorGetNext:6' shape=(100,) dtype=float32>, 'population': <tf.Tensor 'IteratorGetNext:5' shape=(100,) dtype=float32>, 'households': <tf.Tensor 'IteratorGetNext:0' shape=(100,) dtype=float32>, 'median_income': <tf.Tensor 'IteratorGetNext:4' shape=(100,) dtype=float32>}. Consider rewriting this model with the Functional API.\n",
      "170/170 [==============================] - 1s 3ms/step - loss: 13557.2041 - root_mean_squared_error: 116.4354\n",
      "Epoch 2/30\n",
      "170/170 [==============================] - 1s 3ms/step - loss: 13472.8066 - root_mean_squared_error: 116.0724\n",
      "Epoch 3/30\n",
      "170/170 [==============================] - 0s 3ms/step - loss: 13433.1338 - root_mean_squared_error: 115.9014\n",
      "Epoch 4/30\n",
      "170/170 [==============================] - 0s 2ms/step - loss: 13371.5371 - root_mean_squared_error: 115.6354\n",
      "Epoch 5/30\n",
      "170/170 [==============================] - 0s 2ms/step - loss: 13324.5098 - root_mean_squared_error: 115.4318\n",
      "Epoch 6/30\n",
      "170/170 [==============================] - 0s 2ms/step - loss: 13289.3643 - root_mean_squared_error: 115.2795\n",
      "Epoch 7/30\n",
      "170/170 [==============================] - 0s 2ms/step - loss: 13260.5264 - root_mean_squared_error: 115.1544\n",
      "Epoch 8/30\n",
      "170/170 [==============================] - 0s 3ms/step - loss: 13217.4297 - root_mean_squared_error: 114.9671\n",
      "Epoch 9/30\n",
      "170/170 [==============================] - 0s 3ms/step - loss: 13190.3750 - root_mean_squared_error: 114.8494\n",
      "Epoch 10/30\n",
      "170/170 [==============================] - 0s 2ms/step - loss: 13160.5566 - root_mean_squared_error: 114.7195\n",
      "Epoch 11/30\n",
      "170/170 [==============================] - 0s 3ms/step - loss: 13130.8301 - root_mean_squared_error: 114.5898\n",
      "Epoch 12/30\n",
      "170/170 [==============================] - 0s 2ms/step - loss: 13099.1816 - root_mean_squared_error: 114.4517\n",
      "Epoch 13/30\n",
      "170/170 [==============================] - 0s 2ms/step - loss: 13072.7422 - root_mean_squared_error: 114.3361\n",
      "Epoch 14/30\n",
      "170/170 [==============================] - 0s 2ms/step - loss: 13038.2998 - root_mean_squared_error: 114.1854\n",
      "Epoch 15/30\n",
      "170/170 [==============================] - 0s 2ms/step - loss: 13035.2666 - root_mean_squared_error: 114.1721\n",
      "Epoch 16/30\n",
      "170/170 [==============================] - 0s 2ms/step - loss: 13025.2002 - root_mean_squared_error: 114.1280\n",
      "Epoch 17/30\n",
      "170/170 [==============================] - 0s 3ms/step - loss: 12989.3281 - root_mean_squared_error: 113.9707\n",
      "Epoch 18/30\n",
      "170/170 [==============================] - 0s 2ms/step - loss: 12978.9443 - root_mean_squared_error: 113.9252\n",
      "Epoch 19/30\n",
      "170/170 [==============================] - 0s 3ms/step - loss: 12956.6895 - root_mean_squared_error: 113.8275\n",
      "Epoch 20/30\n",
      "170/170 [==============================] - 0s 2ms/step - loss: 12939.2080 - root_mean_squared_error: 113.7506\n",
      "Epoch 21/30\n",
      "170/170 [==============================] - 0s 2ms/step - loss: 12926.0957 - root_mean_squared_error: 113.6930\n",
      "Epoch 22/30\n",
      "170/170 [==============================] - 0s 2ms/step - loss: 12912.7715 - root_mean_squared_error: 113.6344\n",
      "Epoch 23/30\n",
      "170/170 [==============================] - 0s 2ms/step - loss: 12899.8955 - root_mean_squared_error: 113.5777\n",
      "Epoch 24/30\n",
      "170/170 [==============================] - 0s 2ms/step - loss: 12888.3564 - root_mean_squared_error: 113.5269\n",
      "Epoch 25/30\n",
      "170/170 [==============================] - 0s 3ms/step - loss: 12879.0693 - root_mean_squared_error: 113.4860\n",
      "Epoch 26/30\n",
      "170/170 [==============================] - 0s 2ms/step - loss: 12866.2627 - root_mean_squared_error: 113.4296\n",
      "Epoch 27/30\n",
      "170/170 [==============================] - 0s 3ms/step - loss: 12856.6279 - root_mean_squared_error: 113.3871\n",
      "Epoch 28/30\n",
      "170/170 [==============================] - 0s 2ms/step - loss: 12853.2832 - root_mean_squared_error: 113.3723\n",
      "Epoch 29/30\n",
      "170/170 [==============================] - 0s 2ms/step - loss: 12860.9375 - root_mean_squared_error: 113.4061\n",
      "Epoch 30/30\n",
      "170/170 [==============================] - 0s 2ms/step - loss: 12836.0664 - root_mean_squared_error: 113.2964\n"
     ]
    },
    {
     "data": {
      "image/png": "[encoded data removed]",
      "text/plain": [
       "<Figure size 432x288 with 1 Axes>"
      ]
     },
     "metadata": {
      "needs_background": "light"
     },
     "output_type": "display_data"
    },
    {
     "name": "stdout",
     "output_type": "stream",
     "text": [
      "\n",
      ": Evaluate the new model against the test set:\n",
      "WARNING:tensorflow:Layers in a Sequential model should only have a single input tensor. Received: inputs={'longitude': <tf.Tensor 'IteratorGetNext:3' shape=(100,) dtype=float32>, 'latitude': <tf.Tensor 'IteratorGetNext:2' shape=(100,) dtype=float32>, 'housing_median_age': <tf.Tensor 'IteratorGetNext:1' shape=(100,) dtype=float32>, 'total_rooms': <tf.Tensor 'IteratorGetNext:7' shape=(100,) dtype=float32>, 'total_bedrooms': <tf.Tensor 'IteratorGetNext:6' shape=(100,) dtype=float32>, 'population': <tf.Tensor 'IteratorGetNext:5' shape=(100,) dtype=float32>, 'households': <tf.Tensor 'IteratorGetNext:0' shape=(100,) dtype=float32>, 'median_income': <tf.Tensor 'IteratorGetNext:4' shape=(100,) dtype=float32>}. Consider rewriting this model with the Functional API.\n",
      "30/30 [==============================] - 0s 2ms/step - loss: 12167.7070 - root_mean_squared_error: 110.3073\n"
     ]
    },
    {
     "data": {
      "text/plain": [
       "[12167.70703125, 110.30732727050781]"
      ]
     },
     "execution_count": 7,
     "metadata": {},
     "output_type": "execute_result"
    }
   ],
   "source": [
    "# The following variables are the hyperparameters.\n",
    "learning_rate = 0.05\n",
    "epochs = 30\n",
    "batch_size = 100\n",
    "label_name = 'median_house_value'\n",
    "\n",
    "# Create and compile the model's topography.\n",
    "my_model = create_model(learning_rate, fp_feature_layer)\n",
    "\n",
    "# Train the model on the training set.\n",
    "epochs, rmse = train_model(my_model, train_df, epochs, batch_size, label_name)\n",
    "\n",
    "plot_the_loss_curve(epochs, rmse)\n",
    "\n",
    "print(\"\\n: Evaluate the new model against the test set:\")\n",
    "test_features = {name:np.array(value) for name, value in test_df.items()}\n",
    "test_label = np.array(test_features.pop(label_name))\n",
    "my_model.evaluate(x=test_features, y=test_label, batch_size=batch_size)"
   ]
  },
  {
   "cell_type": "markdown",
   "id": "9b93486b",
   "metadata": {},
   "source": [
    "## 4/ Bucket"
   ]
  },
  {
   "cell_type": "markdown",
   "id": "1e38669d",
   "metadata": {},
   "source": [
    "### 4.1/ Represent latitude and longitude in buckets"
   ]
  },
  {
   "cell_type": "markdown",
   "id": "6ff4bd7e",
   "metadata": {},
   "source": [
    "The model will learn a separate weight for each bucket. For example, the model will learn one weight for all the neighborhoods in the \"35\" bin, a different weight for neighborhoods in the \"36\" bin, and so on. This representation will create approximately 20 buckets:\n",
    "\n",
    "  * 11 buckets for `latitude`: `(-Inf, 32)`, `[32, 33)`, ..., `[40, 41)`, `[41, +Inf)`\n",
    "   ```python \n",
    "    latitude_boundaries = [32, 33, 34, 35, 36, 37, 38, 39, 40, 41]\n",
    "   ```\n",
    "  * 12 buckets for `longitude`: `(-Inf, -124)`, `[-124, -123)`, ..., `[-115, -114)`, `[-114, +Inf)`\n",
    "   ```python\n",
    "    longitude_boundaries = [-124, -123, -122, -121, -120, -119, -118, -117, -116, -115, -114]\n",
    "   ```"
   ]
  },
  {
   "cell_type": "code",
   "execution_count": 19,
   "id": "5d07edb3",
   "metadata": {},
   "outputs": [],
   "source": [
    "resolution_in_degrees = 1.0 \n",
    "\n",
    "# Create a new empty list that will eventually hold the generated feature column.\n",
    "feature_columns = []\n",
    "\n",
    "# Create a bucket feature column for latitude.\n",
    "latitude_as_a_numeric_column = tf.feature_column.numeric_column(\"latitude\")\n",
    "latitude_boundaries = list(np.arange(int(min(train_df['latitude'])), \n",
    "                                     int(max(train_df['latitude'])) + resolution_in_degrees, \n",
    "                                     resolution_in_degrees))\n",
    "latitude = tf.feature_column.bucketized_column(latitude_as_a_numeric_column, \n",
    "                                               latitude_boundaries)\n",
    "feature_columns.append(latitude)\n",
    "\n",
    "# Create a bucket feature column for longitude.\n",
    "longitude_as_a_numeric_column = tf.feature_column.numeric_column(\"longitude\")\n",
    "longitude_boundaries = list(np.arange(int(min(train_df['longitude'])), \n",
    "                                      int(max(train_df['longitude'])) + resolution_in_degrees, \n",
    "                                      resolution_in_degrees))\n",
    "longitude = tf.feature_column.bucketized_column(longitude_as_a_numeric_column, \n",
    "                                                longitude_boundaries)\n",
    "feature_columns.append(longitude)\n",
    "\n",
    "# Convert the list of feature columns into a layer that will ultimately become\n",
    "# part of the model. Understanding layers is not important right now.\n",
    "buckets_feature_layer = layers.DenseFeatures(feature_columns)"
   ]
  },
  {
   "cell_type": "markdown",
   "id": "bf5b1bee",
   "metadata": {},
   "source": [
    "### 4.2/ Train the model with bucket representations"
   ]
  },
  {
   "cell_type": "code",
   "execution_count": 20,
   "id": "155ca61b",
   "metadata": {},
   "outputs": [
    {
     "name": "stdout",
     "output_type": "stream",
     "text": [
      "Epoch 1/35\n",
      "WARNING:tensorflow:Layers in a Sequential model should only have a single input tensor. Received: inputs={'longitude': <tf.Tensor 'IteratorGetNext:3' shape=(100,) dtype=float32>, 'latitude': <tf.Tensor 'IteratorGetNext:2' shape=(100,) dtype=float32>, 'housing_median_age': <tf.Tensor 'IteratorGetNext:1' shape=(100,) dtype=float32>, 'total_rooms': <tf.Tensor 'IteratorGetNext:7' shape=(100,) dtype=float32>, 'total_bedrooms': <tf.Tensor 'IteratorGetNext:6' shape=(100,) dtype=float32>, 'population': <tf.Tensor 'IteratorGetNext:5' shape=(100,) dtype=float32>, 'households': <tf.Tensor 'IteratorGetNext:0' shape=(100,) dtype=float32>, 'median_income': <tf.Tensor 'IteratorGetNext:4' shape=(100,) dtype=float32>}. Consider rewriting this model with the Functional API.\n"
     ]
    },
    {
     "name": "stderr",
     "output_type": "stream",
     "text": [
      "/Users/nguyenhien/opt/anaconda3/lib/python3.9/site-packages/keras/optimizers/optimizer_v2/rmsprop.py:135: UserWarning: The `lr` argument is deprecated, use `learning_rate` instead.\n",
      "  super(RMSprop, self).__init__(name, **kwargs)\n"
     ]
    },
    {
     "name": "stdout",
     "output_type": "stream",
     "text": [
      "WARNING:tensorflow:Layers in a Sequential model should only have a single input tensor. Received: inputs={'longitude': <tf.Tensor 'IteratorGetNext:3' shape=(100,) dtype=float32>, 'latitude': <tf.Tensor 'IteratorGetNext:2' shape=(100,) dtype=float32>, 'housing_median_age': <tf.Tensor 'IteratorGetNext:1' shape=(100,) dtype=float32>, 'total_rooms': <tf.Tensor 'IteratorGetNext:7' shape=(100,) dtype=float32>, 'total_bedrooms': <tf.Tensor 'IteratorGetNext:6' shape=(100,) dtype=float32>, 'population': <tf.Tensor 'IteratorGetNext:5' shape=(100,) dtype=float32>, 'households': <tf.Tensor 'IteratorGetNext:0' shape=(100,) dtype=float32>, 'median_income': <tf.Tensor 'IteratorGetNext:4' shape=(100,) dtype=float32>}. Consider rewriting this model with the Functional API.\n",
      "170/170 [==============================] - 1s 3ms/step - loss: 52135.2617 - root_mean_squared_error: 228.3315\n",
      "Epoch 2/35\n",
      "170/170 [==============================] - 0s 2ms/step - loss: 44734.8320 - root_mean_squared_error: 211.5061\n",
      "Epoch 3/35\n",
      "170/170 [==============================] - 0s 3ms/step - loss: 38138.4336 - root_mean_squared_error: 195.2906\n",
      "Epoch 4/35\n",
      "170/170 [==============================] - 0s 3ms/step - loss: 32343.4609 - root_mean_squared_error: 179.8429\n",
      "Epoch 5/35\n",
      "170/170 [==============================] - 1s 3ms/step - loss: 27312.8750 - root_mean_squared_error: 165.2661\n",
      "Epoch 6/35\n",
      "170/170 [==============================] - 0s 2ms/step - loss: 23038.4062 - root_mean_squared_error: 151.7841\n",
      "Epoch 7/35\n",
      "170/170 [==============================] - 0s 2ms/step - loss: 19520.1816 - root_mean_squared_error: 139.7146\n",
      "Epoch 8/35\n",
      "170/170 [==============================] - 0s 2ms/step - loss: 16707.4258 - root_mean_squared_error: 129.2572\n",
      "Epoch 9/35\n",
      "170/170 [==============================] - 0s 3ms/step - loss: 14559.9551 - root_mean_squared_error: 120.6646\n",
      "Epoch 10/35\n",
      "170/170 [==============================] - 0s 3ms/step - loss: 13000.3818 - root_mean_squared_error: 114.0192\n",
      "Epoch 11/35\n",
      "170/170 [==============================] - 0s 3ms/step - loss: 11965.0234 - root_mean_squared_error: 109.3848\n",
      "Epoch 12/35\n",
      "170/170 [==============================] - 0s 2ms/step - loss: 11340.4775 - root_mean_squared_error: 106.4917\n",
      "Epoch 13/35\n",
      "170/170 [==============================] - 0s 2ms/step - loss: 10993.8975 - root_mean_squared_error: 104.8518\n",
      "Epoch 14/35\n",
      "170/170 [==============================] - 0s 3ms/step - loss: 10804.7393 - root_mean_squared_error: 103.9458\n",
      "Epoch 15/35\n",
      "170/170 [==============================] - 0s 3ms/step - loss: 10685.9453 - root_mean_squared_error: 103.3728\n",
      "Epoch 16/35\n",
      "170/170 [==============================] - 0s 3ms/step - loss: 10611.1064 - root_mean_squared_error: 103.0102\n",
      "Epoch 17/35\n",
      "170/170 [==============================] - 0s 2ms/step - loss: 10562.7432 - root_mean_squared_error: 102.7752\n",
      "Epoch 18/35\n",
      "170/170 [==============================] - 0s 2ms/step - loss: 10529.1904 - root_mean_squared_error: 102.6118\n",
      "Epoch 19/35\n",
      "170/170 [==============================] - 0s 2ms/step - loss: 10505.0869 - root_mean_squared_error: 102.4943\n",
      "Epoch 20/35\n",
      "170/170 [==============================] - 0s 3ms/step - loss: 10486.5137 - root_mean_squared_error: 102.4037\n",
      "Epoch 21/35\n",
      "170/170 [==============================] - 0s 3ms/step - loss: 10471.6729 - root_mean_squared_error: 102.3312\n",
      "Epoch 22/35\n",
      "170/170 [==============================] - 0s 2ms/step - loss: 10458.5332 - root_mean_squared_error: 102.2670\n",
      "Epoch 23/35\n",
      "170/170 [==============================] - 0s 2ms/step - loss: 10447.5049 - root_mean_squared_error: 102.2130\n",
      "Epoch 24/35\n",
      "170/170 [==============================] - 0s 2ms/step - loss: 10436.7344 - root_mean_squared_error: 102.1603\n",
      "Epoch 25/35\n",
      "170/170 [==============================] - 0s 2ms/step - loss: 10427.2715 - root_mean_squared_error: 102.1140\n",
      "Epoch 26/35\n",
      "170/170 [==============================] - 0s 3ms/step - loss: 10417.4766 - root_mean_squared_error: 102.0660\n",
      "Epoch 27/35\n",
      "170/170 [==============================] - 0s 2ms/step - loss: 10408.7070 - root_mean_squared_error: 102.0231\n",
      "Epoch 28/35\n",
      "170/170 [==============================] - 0s 2ms/step - loss: 10400.3408 - root_mean_squared_error: 101.9821\n",
      "Epoch 29/35\n",
      "170/170 [==============================] - 0s 2ms/step - loss: 10392.0391 - root_mean_squared_error: 101.9414\n",
      "Epoch 30/35\n",
      "170/170 [==============================] - 1s 4ms/step - loss: 10384.1328 - root_mean_squared_error: 101.9026\n",
      "Epoch 31/35\n",
      "170/170 [==============================] - 0s 3ms/step - loss: 10376.8711 - root_mean_squared_error: 101.8669\n",
      "Epoch 32/35\n",
      "170/170 [==============================] - 1s 4ms/step - loss: 10370.0703 - root_mean_squared_error: 101.8335\n",
      "Epoch 33/35\n",
      "170/170 [==============================] - 1s 3ms/step - loss: 10363.0342 - root_mean_squared_error: 101.7990\n",
      "Epoch 34/35\n",
      "170/170 [==============================] - 0s 2ms/step - loss: 10356.0430 - root_mean_squared_error: 101.7646\n",
      "Epoch 35/35\n",
      "170/170 [==============================] - 1s 3ms/step - loss: 10349.7588 - root_mean_squared_error: 101.7338\n"
     ]
    },
    {
     "data": {
      "image/png": "[encoded data removed]",
      "text/plain": [
       "<Figure size 432x288 with 1 Axes>"
      ]
     },
     "metadata": {
      "needs_background": "light"
     },
     "output_type": "display_data"
    },
    {
     "name": "stdout",
     "output_type": "stream",
     "text": [
      "\n",
      ": Evaluate the new model against the test set:\n",
      "WARNING:tensorflow:Layers in a Sequential model should only have a single input tensor. Received: inputs={'longitude': <tf.Tensor 'IteratorGetNext:3' shape=(100,) dtype=float32>, 'latitude': <tf.Tensor 'IteratorGetNext:2' shape=(100,) dtype=float32>, 'housing_median_age': <tf.Tensor 'IteratorGetNext:1' shape=(100,) dtype=float32>, 'total_rooms': <tf.Tensor 'IteratorGetNext:7' shape=(100,) dtype=float32>, 'total_bedrooms': <tf.Tensor 'IteratorGetNext:6' shape=(100,) dtype=float32>, 'population': <tf.Tensor 'IteratorGetNext:5' shape=(100,) dtype=float32>, 'households': <tf.Tensor 'IteratorGetNext:0' shape=(100,) dtype=float32>, 'median_income': <tf.Tensor 'IteratorGetNext:4' shape=(100,) dtype=float32>}. Consider rewriting this model with the Functional API.\n",
      "30/30 [==============================] - 0s 2ms/step - loss: 10208.2852 - root_mean_squared_error: 101.0361\n"
     ]
    },
    {
     "data": {
      "text/plain": [
       "[10208.28515625, 101.03605651855469]"
      ]
     },
     "execution_count": 20,
     "metadata": {},
     "output_type": "execute_result"
    }
   ],
   "source": [
    "# The following variables are the hyperparameters.\n",
    "learning_rate = 0.04\n",
    "epochs = 35\n",
    "\n",
    "# Build the model, this time passing in the buckets_feature_layer.\n",
    "my_model = create_model(learning_rate, buckets_feature_layer)\n",
    "\n",
    "# Train the model on the training set.\n",
    "epochs, rmse = train_model(my_model, train_df, epochs, batch_size, label_name)\n",
    "\n",
    "plot_the_loss_curve(epochs, rmse)\n",
    "\n",
    "print(\"\\n: Evaluate the new model against the test set:\")\n",
    "my_model.evaluate(x=test_features, y=test_label, batch_size=batch_size)"
   ]
  },
  {
   "cell_type": "markdown",
   "id": "90138786",
   "metadata": {},
   "source": [
    "## 5/ Feature cross"
   ]
  },
  {
   "cell_type": "markdown",
   "id": "49b334d8",
   "metadata": {},
   "source": [
    "### 5.1/ Represent location as a feature cross"
   ]
  },
  {
   "cell_type": "code",
   "execution_count": 26,
   "id": "0ebb1d07",
   "metadata": {},
   "outputs": [],
   "source": [
    "resolution_in_degrees = 1.0 \n",
    "\n",
    "# Create a new empty list that will eventually hold the generated feature column.\n",
    "feature_columns = []\n",
    "\n",
    "# Create a bucket feature column for latitude.\n",
    "latitude_as_a_numeric_column = tf.feature_column.numeric_column(\"latitude\")\n",
    "latitude_boundaries = list(np.arange(int(min(train_df['latitude'])), \n",
    "                                     int(max(train_df['latitude'])) + resolution_in_degrees, \n",
    "                                     resolution_in_degrees))\n",
    "latitude = tf.feature_column.bucketized_column(latitude_as_a_numeric_column, \n",
    "                                               latitude_boundaries)\n",
    "feature_columns.append(latitude)\n",
    "\n",
    "# Create a bucket feature column for longitude.\n",
    "longitude_as_a_numeric_column = tf.feature_column.numeric_column(\"longitude\")\n",
    "longitude_boundaries = list(np.arange(int(min(train_df['longitude'])), \n",
    "                                      int(max(train_df['longitude'])) + resolution_in_degrees, \n",
    "                                      resolution_in_degrees))\n",
    "longitude = tf.feature_column.bucketized_column(longitude_as_a_numeric_column, \n",
    "                                                longitude_boundaries)\n",
    "feature_columns.append(longitude)\n",
    "\n",
    "# Create a feature cross of latitude and longitude.\n",
    "latitude_x_longitude = tf.feature_column.crossed_column([latitude, longitude], hash_bucket_size=100)\n",
    "crossed_feature = tf.feature_column.indicator_column(latitude_x_longitude)\n",
    "feature_columns.append(crossed_feature)\n",
    "\n",
    "# Convert the list of feature columns into a layer that will later be fed into\n",
    "# the model. \n",
    "feature_cross_feature_layer = layers.DenseFeatures(feature_columns)\n",
    "\n",
    "# Train the model with feature cross representations\n",
    "# The following variables are the hyperparameters.\n",
    "learning_rate = 0.04\n",
    "epochs = 35\n",
    "\n",
    "# Build the model, this time passing in the feature_cross_feature_layer: \n",
    "my_model = create_model(learning_rate, feature_cross_feature_layer)\n",
    "\n",
    "# Train the model on the training set.\n",
    "epochs, rmse = train_model(my_model, train_df, epochs, batch_size, label_name)\n",
    "\n",
    "plot_the_loss_curve(epochs, rmse)\n",
    "\n",
    "print(\"\\n: Evaluate the new model against the test set:\")\n",
    "my_model.evaluate(x=test_features, y=test_label, batch_size=batch_size)"
   ]
  },
  {
   "cell_type": "markdown",
   "id": "08a30e83",
   "metadata": {},
   "source": [
    "### 5.2/ Train the model with feature cross representations"
   ]
  },
  {
   "cell_type": "code",
   "execution_count": 27,
   "id": "a2ae867a",
   "metadata": {},
   "outputs": [
    {
     "name": "stdout",
     "output_type": "stream",
     "text": [
      "Epoch 1/35\n",
      "WARNING:tensorflow:Layers in a Sequential model should only have a single input tensor. Received: inputs={'longitude': <tf.Tensor 'IteratorGetNext:3' shape=(100,) dtype=float32>, 'latitude': <tf.Tensor 'IteratorGetNext:2' shape=(100,) dtype=float32>, 'housing_median_age': <tf.Tensor 'IteratorGetNext:1' shape=(100,) dtype=float32>, 'total_rooms': <tf.Tensor 'IteratorGetNext:7' shape=(100,) dtype=float32>, 'total_bedrooms': <tf.Tensor 'IteratorGetNext:6' shape=(100,) dtype=float32>, 'population': <tf.Tensor 'IteratorGetNext:5' shape=(100,) dtype=float32>, 'households': <tf.Tensor 'IteratorGetNext:0' shape=(100,) dtype=float32>, 'median_income': <tf.Tensor 'IteratorGetNext:4' shape=(100,) dtype=float32>}. Consider rewriting this model with the Functional API.\n"
     ]
    },
    {
     "name": "stderr",
     "output_type": "stream",
     "text": [
      "/Users/nguyenhien/opt/anaconda3/lib/python3.9/site-packages/keras/optimizers/optimizer_v2/rmsprop.py:135: UserWarning: The `lr` argument is deprecated, use `learning_rate` instead.\n",
      "  super(RMSprop, self).__init__(name, **kwargs)\n"
     ]
    },
    {
     "name": "stdout",
     "output_type": "stream",
     "text": [
      "WARNING:tensorflow:Layers in a Sequential model should only have a single input tensor. Received: inputs={'longitude': <tf.Tensor 'IteratorGetNext:3' shape=(100,) dtype=float32>, 'latitude': <tf.Tensor 'IteratorGetNext:2' shape=(100,) dtype=float32>, 'housing_median_age': <tf.Tensor 'IteratorGetNext:1' shape=(100,) dtype=float32>, 'total_rooms': <tf.Tensor 'IteratorGetNext:7' shape=(100,) dtype=float32>, 'total_bedrooms': <tf.Tensor 'IteratorGetNext:6' shape=(100,) dtype=float32>, 'population': <tf.Tensor 'IteratorGetNext:5' shape=(100,) dtype=float32>, 'households': <tf.Tensor 'IteratorGetNext:0' shape=(100,) dtype=float32>, 'median_income': <tf.Tensor 'IteratorGetNext:4' shape=(100,) dtype=float32>}. Consider rewriting this model with the Functional API.\n",
      "170/170 [==============================] - 1s 3ms/step - loss: 50800.5703 - root_mean_squared_error: 225.3898\n",
      "Epoch 2/35\n",
      "170/170 [==============================] - 0s 3ms/step - loss: 41437.9062 - root_mean_squared_error: 203.5630\n",
      "Epoch 3/35\n",
      "170/170 [==============================] - 0s 3ms/step - loss: 33464.7109 - root_mean_squared_error: 182.9336\n",
      "Epoch 4/35\n",
      "170/170 [==============================] - 0s 3ms/step - loss: 26781.5957 - root_mean_squared_error: 163.6508\n",
      "Epoch 5/35\n",
      "170/170 [==============================] - 0s 3ms/step - loss: 21419.2188 - root_mean_squared_error: 146.3531\n",
      "Epoch 6/35\n",
      "170/170 [==============================] - 1s 3ms/step - loss: 17284.1738 - root_mean_squared_error: 131.4693\n",
      "Epoch 7/35\n",
      "170/170 [==============================] - 1s 3ms/step - loss: 14245.2461 - root_mean_squared_error: 119.3534\n",
      "Epoch 8/35\n",
      "170/170 [==============================] - 1s 3ms/step - loss: 12158.0830 - root_mean_squared_error: 110.2637\n",
      "Epoch 9/35\n",
      "170/170 [==============================] - 0s 3ms/step - loss: 10921.3311 - root_mean_squared_error: 104.5052\n",
      "Epoch 10/35\n",
      "170/170 [==============================] - 1s 3ms/step - loss: 10280.2490 - root_mean_squared_error: 101.3916\n",
      "Epoch 11/35\n",
      "170/170 [==============================] - 1s 3ms/step - loss: 9963.0098 - root_mean_squared_error: 99.8149\n",
      "Epoch 12/35\n",
      "170/170 [==============================] - 1s 4ms/step - loss: 9793.6357 - root_mean_squared_error: 98.9628\n",
      "Epoch 13/35\n",
      "170/170 [==============================] - 1s 3ms/step - loss: 9691.8984 - root_mean_squared_error: 98.4474\n",
      "Epoch 14/35\n",
      "170/170 [==============================] - 0s 3ms/step - loss: 9625.7256 - root_mean_squared_error: 98.1108\n",
      "Epoch 15/35\n",
      "170/170 [==============================] - 0s 3ms/step - loss: 9579.7324 - root_mean_squared_error: 97.8761\n",
      "Epoch 16/35\n",
      "170/170 [==============================] - 0s 3ms/step - loss: 9543.3271 - root_mean_squared_error: 97.6900\n",
      "Epoch 17/35\n",
      "170/170 [==============================] - 1s 3ms/step - loss: 9514.7324 - root_mean_squared_error: 97.5435\n",
      "Epoch 18/35\n",
      "170/170 [==============================] - 1s 3ms/step - loss: 9491.7793 - root_mean_squared_error: 97.4258\n",
      "Epoch 19/35\n",
      "170/170 [==============================] - 1s 3ms/step - loss: 9474.0400 - root_mean_squared_error: 97.3347\n",
      "Epoch 20/35\n",
      "170/170 [==============================] - 0s 3ms/step - loss: 9458.0674 - root_mean_squared_error: 97.2526\n",
      "Epoch 21/35\n",
      "170/170 [==============================] - 0s 3ms/step - loss: 9444.3623 - root_mean_squared_error: 97.1821\n",
      "Epoch 22/35\n",
      "170/170 [==============================] - 1s 3ms/step - loss: 9433.0898 - root_mean_squared_error: 97.1241\n",
      "Epoch 23/35\n",
      "170/170 [==============================] - 1s 4ms/step - loss: 9422.9482 - root_mean_squared_error: 97.0719\n",
      "Epoch 24/35\n",
      "170/170 [==============================] - 1s 4ms/step - loss: 9413.9600 - root_mean_squared_error: 97.0256\n",
      "Epoch 25/35\n",
      "170/170 [==============================] - 1s 4ms/step - loss: 9405.5908 - root_mean_squared_error: 96.9824\n",
      "Epoch 26/35\n",
      "170/170 [==============================] - 1s 3ms/step - loss: 9398.4590 - root_mean_squared_error: 96.9456\n",
      "Epoch 27/35\n",
      "170/170 [==============================] - 1s 3ms/step - loss: 9392.4414 - root_mean_squared_error: 96.9146\n",
      "Epoch 28/35\n",
      "170/170 [==============================] - 0s 3ms/step - loss: 9386.1465 - root_mean_squared_error: 96.8821\n",
      "Epoch 29/35\n",
      "170/170 [==============================] - 1s 3ms/step - loss: 9380.8760 - root_mean_squared_error: 96.8549\n",
      "Epoch 30/35\n",
      "170/170 [==============================] - 1s 3ms/step - loss: 9375.5029 - root_mean_squared_error: 96.8272\n",
      "Epoch 31/35\n",
      "170/170 [==============================] - 1s 3ms/step - loss: 9370.7275 - root_mean_squared_error: 96.8025\n",
      "Epoch 32/35\n",
      "170/170 [==============================] - 1s 3ms/step - loss: 9366.2471 - root_mean_squared_error: 96.7794\n",
      "Epoch 33/35\n",
      "170/170 [==============================] - 1s 3ms/step - loss: 9361.7266 - root_mean_squared_error: 96.7560\n",
      "Epoch 34/35\n",
      "170/170 [==============================] - 1s 3ms/step - loss: 9358.0352 - root_mean_squared_error: 96.7369\n",
      "Epoch 35/35\n",
      "170/170 [==============================] - 1s 3ms/step - loss: 9354.3945 - root_mean_squared_error: 96.7181\n"
     ]
    },
    {
     "data": {
      "image/png": "[encoded data removed]",
      "text/plain": [
       "<Figure size 432x288 with 1 Axes>"
      ]
     },
     "metadata": {
      "needs_background": "light"
     },
     "output_type": "display_data"
    },
    {
     "name": "stdout",
     "output_type": "stream",
     "text": [
      "\n",
      ": Evaluate the new model against the test set:\n",
      "WARNING:tensorflow:Layers in a Sequential model should only have a single input tensor. Received: inputs={'longitude': <tf.Tensor 'IteratorGetNext:3' shape=(100,) dtype=float32>, 'latitude': <tf.Tensor 'IteratorGetNext:2' shape=(100,) dtype=float32>, 'housing_median_age': <tf.Tensor 'IteratorGetNext:1' shape=(100,) dtype=float32>, 'total_rooms': <tf.Tensor 'IteratorGetNext:7' shape=(100,) dtype=float32>, 'total_bedrooms': <tf.Tensor 'IteratorGetNext:6' shape=(100,) dtype=float32>, 'population': <tf.Tensor 'IteratorGetNext:5' shape=(100,) dtype=float32>, 'households': <tf.Tensor 'IteratorGetNext:0' shape=(100,) dtype=float32>, 'median_income': <tf.Tensor 'IteratorGetNext:4' shape=(100,) dtype=float32>}. Consider rewriting this model with the Functional API.\n",
      "30/30 [==============================] - 0s 2ms/step - loss: 9204.1807 - root_mean_squared_error: 95.9384\n"
     ]
    },
    {
     "data": {
      "text/plain": [
       "[9204.1806640625, 95.93842315673828]"
      ]
     },
     "execution_count": 27,
     "metadata": {},
     "output_type": "execute_result"
    }
   ],
   "source": [
    "# The following variables are the hyperparameters.\n",
    "learning_rate = 0.04\n",
    "epochs = 35\n",
    "\n",
    "# Build the model, this time passing in the feature_cross_feature_layer: \n",
    "my_model = create_model(learning_rate, feature_cross_feature_layer)\n",
    "\n",
    "# Train the model on the training set.\n",
    "epochs, rmse = train_model(my_model, train_df, epochs, batch_size, label_name)\n",
    "\n",
    "plot_the_loss_curve(epochs, rmse)\n",
    "\n",
    "print(\"\\n: Evaluate the new model against the test set:\")\n",
    "my_model.evaluate(x=test_features, y=test_label, batch_size=batch_size)"
   ]
  }
 ],
 "metadata": {
  "kernelspec": {
   "display_name": "Python 3.10.5 64-bit",
   "language": "python",
   "name": "python3"
  },
  "language_info": {
   "codemirror_mode": {
    "name": "ipython",
    "version": 3
   },
   "file_extension": ".py",
   "mimetype": "text/x-python",
   "name": "python",
   "nbconvert_exporter": "python",
   "pygments_lexer": "ipython3",
   "version": "3.10.5"
  },
  "vscode": {
   "interpreter": {
    "hash": "aee8b7b246df8f9039afb4144a1f6fd8d2ca17a180786b69acc140d282b71a49"
   }
  }
 },
 "nbformat": 4,
 "nbformat_minor": 5
}
